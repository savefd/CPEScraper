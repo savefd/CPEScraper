{
 "cells": [
  {
   "cell_type": "markdown",
   "metadata": {},
   "source": [
    "# CPE KMUTT website scraper"
   ]
  },
  {
   "cell_type": "code",
   "execution_count": null,
   "metadata": {},
   "outputs": [],
   "source": [
    "from bs4 import BeautifulSoup\n",
    "from selenium import webdriver\n",
    "from time import sleep\n",
    "import re\n",
    "import pandas as pd\n",
    "#from selenium.webdriver.edge.options import Options"
   ]
  },
  {
   "cell_type": "code",
   "execution_count": null,
   "metadata": {},
   "outputs": [],
   "source": [
    "driver = webdriver.Edge(executable_path = 'edgedriver_win64\\\\msedgedriver.exe')"
   ]
  },
  {
   "cell_type": "markdown",
   "metadata": {},
   "source": [
    "<h2> Name, Position, and URLs </h2>"
   ]
  },
  {
   "cell_type": "code",
   "execution_count": null,
   "metadata": {
    "scrolled": true
   },
   "outputs": [],
   "source": [
    "url = 'https://www.cpe.kmutt.ac.th/th/staff'\n",
    "driver.get(url)\n",
    "sleep(0.5)\n",
    "# get HTML from driver at current page\n",
    "soup = BeautifulSoup(driver.page_source,'html.parser')\n",
    "# declare lists\n",
    "position = []\n",
    "postid = []\n",
    "fullname = []\n",
    "for i in range(0, len(soup.select('p.text-muted'))):\n",
    "    position.append(soup.select('p.text-muted')[i].get_text())\n",
    "    fullname.append(soup.select('h3.profile-username')[i].get_text())\n",
    "    tmp = re.search(r'(postid)=\\\"\\S+\\\"', str(soup.select('h3.profile-username')[i]))\n",
    "    postid.append(tmp.group(0)[8:-1])\n",
    "\n",
    "personnel = pd.DataFrame({'PostID': postid,\n",
    "                          'Position': position,\n",
    "                          'FullName': fullname})"
   ]
  },
  {
   "cell_type": "markdown",
   "metadata": {},
   "source": [
    "## Education and Research field"
   ]
  },
  {
   "cell_type": "code",
   "execution_count": null,
   "metadata": {},
   "outputs": [],
   "source": [
    "# Use .format to fill url for the best time-complexity\n",
    "urls = url + \"-detail/{}\"\n",
    "education = list()\n",
    "role, tel, email = [],[],[] \n",
    "for idx in postid:\n",
    "    driver.get(urls.format(idx))\n",
    "    sleep(2)\n",
    "    soup = BeautifulSoup(driver.page_source,'html.parser')\n",
    "    info = soup.select('p.staff-list-detail')\n",
    "    edu = soup.select('div.col-xs-12.post-content')[0].get_text()\n",
    "    education.append(edu)\n",
    "    role.append(info[0].get_text())\n",
    "    tel.append(info[1].get_text())\n",
    "    email.append(info[2].get_text())\n",
    "\n",
    "moreinfo = pd.DataFrame({'role':role, \n",
    "                         'tel':tel,\n",
    "                         'email':email,\n",
    "                         'education':education})"
   ]
  },
  {
   "cell_type": "markdown",
   "metadata": {},
   "source": [
    "## Constructing DataFrame"
   ]
  },
  {
   "cell_type": "code",
   "execution_count": null,
   "metadata": {
    "scrolled": true
   },
   "outputs": [],
   "source": [
    "df = pd.concat([personnel, moreinfo], axis = 1)\n",
    "#df"
   ]
  },
  {
   "cell_type": "code",
   "execution_count": null,
   "metadata": {},
   "outputs": [],
   "source": [
    "test = df.iloc[9,3].split('\\n')\n",
    "list(filter(lambda x: x != '', test))"
   ]
  }
 ],
 "metadata": {
  "kernelspec": {
   "display_name": "Python 3",
   "language": "python",
   "name": "python3"
  },
  "language_info": {
   "codemirror_mode": {
    "name": "ipython",
    "version": 3
   },
   "file_extension": ".py",
   "mimetype": "text/x-python",
   "name": "python",
   "nbconvert_exporter": "python",
   "pygments_lexer": "ipython3",
   "version": "3.8.3"
  }
 },
 "nbformat": 4,
 "nbformat_minor": 4
}
